{
 "cells": [
  {
   "cell_type": "markdown",
   "metadata": {},
   "source": [
    "### This notebook converts the NRO pdfs to images\n",
    "To use pytesseract, the input must be an image. Therefore, we need to convert the PDFs into a series of images. Each page will be its own image. The images for a pdf are stored in a folder based on the name of the pdf."
   ]
  },
  {
   "cell_type": "code",
   "execution_count": null,
   "metadata": {},
   "outputs": [],
   "source": [
    "import logging\n",
    "from pathlib import Path \n",
    "from pdf2image import convert_from_path\n",
    "\n",
    "def create_fh_logger(file):\n",
    "    logger = logging.getLogger()\n",
    "    logger.setLevel(logging.INFO)\n",
    "    formatter = logging.Formatter('%(asctime)s | %(levelname)s | %(message)s')\n",
    "    file_handler = logging.FileHandler(file)\n",
    "    file_handler.setLevel(logging.DEBUG)\n",
    "    file_handler.setFormatter(formatter)\n",
    "    logger.addHandler(file_handler)\n",
    "    return logger"
   ]
  },
  {
   "cell_type": "code",
   "execution_count": null,
   "metadata": {},
   "outputs": [],
   "source": [
    "src = Path.cwd().parent.parent / 'processing' / 'nro_declassified' / 'pdfs'\n",
    "pdfs = sorted(list(src.glob('*pdf')))\n",
    "dst = src.parent / 'imgs'\n",
    "dst.mkdir(exist_ok=True)\n",
    "logs = src.parent.parent / 'logs'\n",
    "logs.mkdir(exist_ok=True)\n",
    "logger = create_fh_logger(logs / \"imgs2pdfs.log\")"
   ]
  },
  {
   "cell_type": "code",
   "execution_count": null,
   "metadata": {},
   "outputs": [],
   "source": [
    "for pdf in pdfs:\n",
    "    logger.info(f\"Working on {str(pdf.name).encode('utf-8')}\")\n",
    "    save_loc = dst / pdf.stem\n",
    "    pgs = convert_from_path(pdf_path=pdf, dpi=300, fmt='png', thread_count=32, output_folder=save_loc)\n",
    "    logger.info(f\"Finished {str(pdf.name).encode('utf-8')}\")"
   ]
  }
 ],
 "metadata": {
  "kernelspec": {
   "display_name": "Python 3",
   "language": "python",
   "name": "python3"
  },
  "language_info": {
   "codemirror_mode": {
    "name": "ipython",
    "version": 3
   },
   "file_extension": ".py",
   "mimetype": "text/x-python",
   "name": "python",
   "nbconvert_exporter": "python",
   "pygments_lexer": "ipython3",
   "version": "3.9.4"
  }
 },
 "nbformat": 4,
 "nbformat_minor": 2
}
