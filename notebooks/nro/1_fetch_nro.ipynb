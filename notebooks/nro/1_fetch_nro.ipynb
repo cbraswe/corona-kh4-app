{
 "cells": [
  {
   "cell_type": "markdown",
   "metadata": {},
   "source": [
    "### Lightweight Notebook to Quickly Retrieve All FOIA PDFs from NRO site\n",
    "This will retrieve all the FOIA PDFs in the CAL Library Listing on NROs website. These are documents related to CORONA, ARGON, and LANYARD."
   ]
  },
  {
   "cell_type": "code",
   "execution_count": null,
   "metadata": {},
   "outputs": [],
   "source": [
    "import bs4\n",
    "from datetime import datetime\n",
    "from pathlib import Path \n",
    "import requests"
   ]
  },
  {
   "cell_type": "code",
   "execution_count": null,
   "metadata": {},
   "outputs": [],
   "source": [
    "output_folder = Path.cwd().parent.parent.parent / 'processing' / 'nro_declassified' / 'pdfs'\n",
    "base_url = 'https://www.nro.gov'\n",
    "r = requests.get(f'{base_url}/foia-home/foia-declassified-major-nro-programs-and-projects/CAL-Library-Listing/')"
   ]
  },
  {
   "cell_type": "code",
   "execution_count": null,
   "metadata": {},
   "outputs": [],
   "source": [
    "soup = bs4.BeautifulSoup(r.text,'lxml')\n",
    "rows = soup.find_all('tr') # find the table rows"
   ]
  },
  {
   "cell_type": "code",
   "execution_count": null,
   "metadata": {},
   "outputs": [],
   "source": [
    "for row in rows:\n",
    "    cells = row.find_all('td') \n",
    "    if len(cells) == 7: # there are other tables on the page but ours is 7 cells wide\n",
    "        id = cells[0].text\n",
    "        link = cells[1].find('a')\n",
    "        if link is not None:\n",
    "            link = link.get('href') \n",
    "            ext = link.split('.')[-1]\n",
    "        name = cells[2].text\n",
    "        for char in '<>:\"/\\|?*,.-': # not allowed in a windows file name\n",
    "            name = name.replace(char, '') \n",
    "        name = name[:60] # low value bcuz there is also a windows length concern\n",
    "        date = cells[3].text\n",
    "        date = date.replace('(Estimated)', '') # text randomly included with date\n",
    "        date = date.strip()\n",
    "        try:\n",
    "            date = datetime.strptime(date, '%m/%d/%Y').date().isoformat()\n",
    "        except:\n",
    "            date = datetime.utcnow().date().isoformat() # junk \n",
    "        if link is not None:\n",
    "            file_name = f'{date}{name}_{id}.{ext}'\n",
    "            r = requests.get(f'{base_url}{link}')\n",
    "            if r.ok:\n",
    "                with open (output_folder / file_name, 'wb') as f:\n",
    "                    f.write(r.content)\n",
    "            else:\n",
    "                print(id)"
   ]
  },
  {
   "cell_type": "code",
   "execution_count": null,
   "metadata": {},
   "outputs": [],
   "source": [
    "have = [int(str(file).replace('.pdf', '').split('_')[-1]) for file in pdfs]\n",
    "want = range(1, 2359, 1)\n",
    "missing = [str(i) for i in want if i not in have]\n",
    "print(f'The following IDs do not have associated PDFs downloaded in this file system: {(\",\").join(missing)}')"
   ]
  },
  {
   "cell_type": "markdown",
   "metadata": {},
   "source": [
    "I manually reviewed the missing records and they are broken links on NROs site as well. I e-mailed NRO to inform them of the broken links and site functionality."
   ]
  },
  {
   "cell_type": "code",
   "execution_count": null,
   "metadata": {},
   "outputs": [],
   "source": [
    "from pathlib import Path"
   ]
  },
  {
   "cell_type": "code",
   "execution_count": null,
   "metadata": {},
   "outputs": [],
   "source": []
  }
 ],
 "metadata": {
  "kernelspec": {
   "display_name": "Python 3",
   "language": "python",
   "name": "python3"
  },
  "language_info": {
   "codemirror_mode": {
    "name": "ipython",
    "version": 3
   },
   "file_extension": ".py",
   "mimetype": "text/x-python",
   "name": "python",
   "nbconvert_exporter": "python",
   "pygments_lexer": "ipython3",
   "version": "3.9.4"
  }
 },
 "nbformat": 4,
 "nbformat_minor": 2
}
