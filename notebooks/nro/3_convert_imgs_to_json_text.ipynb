{
 "cells": [
  {
   "cell_type": "markdown",
   "metadata": {},
   "source": [
    "### Uses Tesseract-OCR to Create Text from Images\n",
    "This notebook will loop through all the images in the imgs folder to use tesseract-ocr. It will save the output as a json file, where the filename is the name of the pdf. The contents are a nested pdf with each page number as a key. Within each page of data, tesseracts confidence score, location of the text detection, and text are available."
   ]
  },
  {
   "cell_type": "code",
   "execution_count": null,
   "metadata": {},
   "outputs": [],
   "source": [
    "import json \n",
    "import logging\n",
    "import sys\n",
    "from pathlib import Path\n",
    "from PIL import Image # cv2 doesnt actually work well with pathlib and raises an error with some of our filenames\n",
    "from pytesseract import image_to_data # https://github.com/UB-Mannheim/tesseract/wiki\n",
    "from pytesseract import Output\n",
    "\n",
    "sys.path.append(str(Path.cwd().parent.parent))\n",
    "from utils import create_fh_logger"
   ]
  },
  {
   "cell_type": "code",
   "execution_count": null,
   "metadata": {},
   "outputs": [],
   "source": [
    "src = Path.cwd().parent.parent.parent / 'processing' / 'nro_declassified' / 'imgs'\n",
    "dst = src.parent / \"ocr\"\n",
    "dst.mkdir(exist_ok=True)\n",
    "logs = src.parent.parent / 'logs'\n",
    "logs.mkdir(exist_ok=True)\n",
    "logger = create_fh_logger(logs / \"ocr.log\")\n",
    "already_ocrd = list(dst.glob('*.json'))"
   ]
  },
  {
   "cell_type": "code",
   "execution_count": null,
   "metadata": {},
   "outputs": [],
   "source": [
    "logger.info('Entering for loop.')\n",
    "for item in src.iterdir(): # could be a file ig if something went wrong\n",
    "    translation = {}\n",
    "    try: # there are some unallowed characters and conditions in here that haven't all been identified\n",
    "        if item.is_dir: # what we're after \n",
    "            pdf_name = item.stem\n",
    "            file_name = dst / f'{pdf_name}.json'\n",
    "            if file_name not in already_ocrd:\n",
    "                pgs = list(item.glob('*png'))\n",
    "                logger.info(f\"Starting Translation on {pdf_name.encode('utf-8')} with {len(pgs)} pages.\")\n",
    "                pg_translations = {}\n",
    "                for pg in pgs:\n",
    "                    pg_num = pg.stem\n",
    "                    pg = Image.open(pg)\n",
    "                    parsed = image_to_data(pg, output_type = Output.DICT)\n",
    "                    pg_translations[pg_num] = parsed\n",
    "                translation[pdf_name] = pg_translations\n",
    "                logger.info(f\"Saving Translation for {pdf_name.encode('utf-8')} as a JSON.\")\n",
    "                with open (file_name, 'w') as f:\n",
    "                    json.dump(translation, f)\n",
    "    except Exception as e:\n",
    "        logger.info(e)  \n",
    "logger.info('Exiting for loop')"
   ]
  },
  {
   "cell_type": "code",
   "execution_count": null,
   "metadata": {},
   "outputs": [],
   "source": []
  }
 ],
 "metadata": {
  "kernelspec": {
   "display_name": "Python 3",
   "language": "python",
   "name": "python3"
  },
  "language_info": {
   "codemirror_mode": {
    "name": "ipython",
    "version": 3
   },
   "file_extension": ".py",
   "mimetype": "text/x-python",
   "name": "python",
   "nbconvert_exporter": "python",
   "pygments_lexer": "ipython3",
   "version": "3.9.4"
  }
 },
 "nbformat": 4,
 "nbformat_minor": 2
}
