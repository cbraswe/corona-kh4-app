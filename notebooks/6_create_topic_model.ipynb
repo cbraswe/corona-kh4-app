{
 "cells": [
  {
   "cell_type": "markdown",
   "metadata": {},
   "source": [
    "This was to create an LDA model, but the results are bad and undesirable, which I think is the result of the source data. I'm going to move forward with analyzing the data based on Counts/CountVectorizers."
   ]
  },
  {
   "cell_type": "markdown",
   "metadata": {},
   "source": [
    "*.ipynb filter=strip-notebook-output  "
   ]
  },
  {
   "cell_type": "code",
   "execution_count": null,
   "metadata": {},
   "outputs": [],
   "source": [
    "from gensim.corpora import Dictionary\n",
    "from gensim.models import LdaModel\n",
    "from gensim.parsing.preprocessing import preprocess_string\n",
    "import json \n",
    "import logging\n",
    "from pathlib import Path\n",
    "\n",
    "import logging\n",
    "\n",
    "def create_fh_logger(file):\n",
    "    logger = logging.getLogger()\n",
    "    logger.setLevel(logging.INFO)\n",
    "    formatter = logging.Formatter('%(asctime)s | %(levelname)s | %(message)s')\n",
    "    file_handler = logging.FileHandler(file)\n",
    "    file_handler.setLevel(logging.DEBUG)\n",
    "    file_handler.setFormatter(formatter)\n",
    "    logger.addHandler(file_handler)\n",
    "    return logger"
   ]
  },
  {
   "cell_type": "code",
   "execution_count": null,
   "metadata": {},
   "outputs": [],
   "source": [
    "# locations of json files + a place to store a log\n",
    "src = Path.cwd().parent.parent / 'processing' / 'nro_declassified' / 'tokenized'\n",
    "dst = src.parent / 'topics'\n",
    "files = list(src.glob('*json'))\n",
    "logs = Path.cwd() / 'logs'\n",
    "logs.mkdir(exist_ok=True)\n",
    "logger = create_fh_logger(logs / \"topic_model.log\")"
   ]
  },
  {
   "cell_type": "code",
   "execution_count": null,
   "metadata": {},
   "outputs": [],
   "source": [
    "documents = []\n",
    "for file in files:\n",
    "    with open(file, 'r') as f:\n",
    "        data = json.load(f)\n",
    "    words = [item['word'] for item in data]\n",
    "    documents.append(preprocess_string((' ').join(words))) # some edge cases I still missed, letting gensim pick up the slack here"
   ]
  },
  {
   "cell_type": "code",
   "execution_count": null,
   "metadata": {},
   "outputs": [],
   "source": [
    "dictionary = Dictionary(documents)\n",
    "dictionary.filter_extremes(no_below=0.1, no_above=0.5)\n",
    "corpus = [dictionary.doc2bow(doc) for doc in documents]\n",
    "lda_model = LdaModel(corpus=corpus, id2word=dictionary, per_word_topics=True,  num_topics=6, passes=5)"
   ]
  },
  {
   "cell_type": "code",
   "execution_count": null,
   "metadata": {},
   "outputs": [],
   "source": [
    "for idx, topic in lda_model.print_topics(-1):\n",
    "    print(f\"Topic: {idx} \\nWords: {topic}\\n\")"
   ]
  },
  {
   "cell_type": "code",
   "execution_count": null,
   "metadata": {},
   "outputs": [],
   "source": [
    "for document_num, doc in enumerate(corpus):\n",
    "    doc_topics = lda_model.get_document_topics(doc)\n",
    "    # Optionally, sort the topics by their contribution to this document\n",
    "    doc_topics_sorted = sorted(doc_topics, key=lambda x: x[1], reverse=True)\n",
    "    for topic_num, prop_topic in doc_topics_sorted:\n",
    "        # Print the top topic and its contribution\n",
    "        if topic_num == 4:\n",
    "            print(f\"Document {document_num} Top Topics: {doc_topics}\")\n",
    "            print(f'File: {files[document_num]}')\n",
    "            print(f\"Top topic: {topic_num}, Contribution: {prop_topic:.4f}\")\n",
    "            # Print top words for this topic\n",
    "            word_contributions = lda_model.show_topic(topic_num)\n",
    "            print(f\"Top words for top topic: {word_contributions}\")\n",
    "            print(\"\\n\")"
   ]
  },
  {
   "cell_type": "code",
   "execution_count": null,
   "metadata": {},
   "outputs": [],
   "source": []
  }
 ],
 "metadata": {
  "kernelspec": {
   "display_name": "Python 3",
   "language": "python",
   "name": "python3"
  },
  "language_info": {
   "codemirror_mode": {
    "name": "ipython",
    "version": 3
   },
   "file_extension": ".py",
   "mimetype": "text/x-python",
   "name": "python",
   "nbconvert_exporter": "python",
   "pygments_lexer": "ipython3",
   "version": "3.9.4"
  }
 },
 "nbformat": 4,
 "nbformat_minor": 2
}
