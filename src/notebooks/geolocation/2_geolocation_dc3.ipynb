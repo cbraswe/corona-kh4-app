{
 "cells": [
  {
   "cell_type": "code",
   "execution_count": null,
   "metadata": {},
   "outputs": [],
   "source": [
    "from affine import Affine\n",
    "from matplotlib import pyplot as plt\n",
    "from pathlib import Path\n",
    "import pyproj\n",
    "import rasterio\n",
    "from rasterio.control import GroundControlPoint\n",
    "from rasterio.transform import from_gcps\n",
    "import warnings\n",
    "warnings.filterwarnings(\"ignore\", category=rasterio.errors.NotGeoreferencedWarning)"
   ]
  },
  {
   "cell_type": "code",
   "execution_count": null,
   "metadata": {},
   "outputs": [],
   "source": [
    "#the below test is for the edge of the airport and to include the LFR"
   ]
  },
  {
   "cell_type": "code",
   "execution_count": null,
   "metadata": {},
   "outputs": [],
   "source": [
    "input_file = Path.cwd().parent.parent.parent / 'processing' / 'geolocation' / 'AttachmentA.png'\n",
    "intermediate_file = input_file.parent / 'test2.png'\n",
    "airport = GroundControlPoint(row=1227, col=721, y=36.47853873, x=-82.3953803) # the image was opened in paint to get the pixel info\n",
    "holston_vor = GroundControlPoint(row=1512, col=2091, y=36.4370628, x=-82.1295676)\n",
    "tricities_lfr = GroundControlPoint(row=1124, col=994, y=36.494722, x=-82.334722)\n",
    "transform = from_gcps([airport, holston_vor, tricities_lfr])\n",
    "file = rasterio.open(input_file, 'r+')\n",
    "file.crs = 4326\n",
    "file.transform = transform\n",
    "file.profile['nodata'] = -1\n",
    "with rasterio.open(intermediate_file, 'w', **file.profile) as f: # lets save off the intermediate result to view in Software real quick\n",
    "    f.write(file.read())\n",
    "transformed = rasterio.open(intermediate_file, 'r+')# Very skewed and no longer north aligned"
   ]
  },
  {
   "cell_type": "code",
   "execution_count": null,
   "metadata": {},
   "outputs": [],
   "source": []
  }
 ],
 "metadata": {
  "kernelspec": {
   "display_name": "Python 3",
   "language": "python",
   "name": "python3"
  },
  "language_info": {
   "codemirror_mode": {
    "name": "ipython",
    "version": 3
   },
   "file_extension": ".py",
   "mimetype": "text/x-python",
   "name": "python",
   "nbconvert_exporter": "python",
   "pygments_lexer": "ipython3",
   "version": "3.9.4"
  }
 },
 "nbformat": 4,
 "nbformat_minor": 2
}
