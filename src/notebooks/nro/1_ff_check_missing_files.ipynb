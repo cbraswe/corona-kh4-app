{
 "cells": [
  {
   "cell_type": "code",
   "execution_count": null,
   "metadata": {},
   "outputs": [],
   "source": [
    "from pathlib import Path \n",
    "output_folder = Path.cwd().parent.parent.parent / 'processing' / 'nro_declassified' / 'pdfs'\n",
    "pdfs = output_folder.glob(\"*pdf\")\n",
    "have = [int(str(file).replace('.pdf', '').split('_')[-1]) for file in pdfs]\n",
    "want = range(1, 2359, 1)\n",
    "missing = [str(i) for i in want if i not in have]\n",
    "print(f'The following IDs do not have associated PDFs downloaded in this file system: {(\",\").join(missing)}')"
   ]
  }
 ],
 "metadata": {
  "kernelspec": {
   "display_name": "Python 3",
   "language": "python",
   "name": "python3"
  },
  "language_info": {
   "codemirror_mode": {
    "name": "ipython",
    "version": 3
   },
   "file_extension": ".py",
   "mimetype": "text/x-python",
   "name": "python",
   "nbconvert_exporter": "python",
   "pygments_lexer": "ipython3",
   "version": "3.9.4"
  }
 },
 "nbformat": 4,
 "nbformat_minor": 2
}
