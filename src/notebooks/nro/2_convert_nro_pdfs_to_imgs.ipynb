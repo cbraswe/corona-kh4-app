{
 "cells": [
  {
   "cell_type": "markdown",
   "metadata": {},
   "source": [
    "### This notebook converts the NRO pdfs to images\n",
    "To use pytesseract, the input must be an image. Therefore, we need to convert the PDFs into a series of images. Each page will be its own image. The images for a pdf are stored in a folder based on the name of the pdf."
   ]
  },
  {
   "cell_type": "code",
   "execution_count": null,
   "metadata": {},
   "outputs": [],
   "source": [
    "from pathlib import Path \n",
    "from pdf2image import convert_from_path\n",
    "import sys\n",
    "sys.path.append(str(Path.cwd().parent.parent))\n",
    "from utils import create_fh_logger"
   ]
  },
  {
   "cell_type": "code",
   "execution_count": null,
   "metadata": {},
   "outputs": [],
   "source": [
    "src = Path.cwd().parent.parent.parent.parent / 'processing' / 'nro_declassified' / 'pdfs'\n",
    "pdfs = sorted(list(src.glob('*pdf')))\n",
    "dst = src.parent / 'imgs'\n",
    "dst.mkdir(exist_ok=True)\n",
    "logs = src.parent.parent / 'logs'\n",
    "logs.mkdir(exist_ok=True)\n",
    "logger = create_fh_logger(logs / \"imgs2pdfs.log\")"
   ]
  },
  {
   "cell_type": "code",
   "execution_count": null,
   "metadata": {},
   "outputs": [],
   "source": [
    "for pdf in pdfs:\n",
    "    logger.info(f\"Working on {str(pdf.name).encode('utf-8')}\")\n",
    "    save_loc = dst / pdf.stem\n",
    "    save_loc.mkdir(exist_ok=True)\n",
    "    try:\n",
    "        pgs = convert_from_path(pdf_path=pdf, dpi=300, fmt='png', thread_count=16, output_folder=save_loc, output_file='') \n",
    "        del pgs # remove from memory so we can rename them\n",
    "    except Exception as e:\n",
    "        print(e)\n",
    "        print(save_loc)\n",
    "    for img in save_loc.glob('*png'): # files are saved with strange prefix then page number, just want page number\n",
    "        pg_num = img.stem.split('-')[-1] # keep the page number from the naming prefix\n",
    "        new = img.with_name(f'{pg_num}{img.suffix}')\n",
    "        img.rename(new)\n",
    "    logger.info(f\"Finished {str(pdf.name).encode('utf-8')}\")"
   ]
  },
  {
   "cell_type": "code",
   "execution_count": null,
   "metadata": {},
   "outputs": [],
   "source": []
  }
 ],
 "metadata": {
  "kernelspec": {
   "display_name": "Python 3",
   "language": "python",
   "name": "python3"
  },
  "language_info": {
   "codemirror_mode": {
    "name": "ipython",
    "version": 3
   },
   "file_extension": ".py",
   "mimetype": "text/x-python",
   "name": "python",
   "nbconvert_exporter": "python",
   "pygments_lexer": "ipython3",
   "version": "3.9.4"
  }
 },
 "nbformat": 4,
 "nbformat_minor": 2
}
