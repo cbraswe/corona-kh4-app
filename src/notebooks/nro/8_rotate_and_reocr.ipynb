{
 "cells": [
  {
   "cell_type": "markdown",
   "metadata": {},
   "source": [
    "Tesseract says it works best on documents that are pre-processed; however, it does include significant processing to assist it. In the below, we will use CRAFT to detect image rotation and then rotate images. Then we will re-OCR the data."
   ]
  },
  {
   "cell_type": "code",
   "execution_count": 1,
   "metadata": {},
   "outputs": [],
   "source": [
    "# https://pypi.org/project/craft-text-detector/\n",
    "# https://ai.plainenglish.io/how-to-extract-texts-from-rotated-skewed-text-images-using-craft-opencv-and-pytesseract-9c8c3fb8ef9d\n",
    "from craft_text_detector import Craft \n",
    "import cv2\n",
    "import json \n",
    "import math \n",
    "import multiprocessing\n",
    "import numpy as np \n",
    "import pandas as pd\n",
    "from pathlib import Path\n",
    "from pdf2image import convert_from_path\n",
    "from PIL import Image\n",
    "from pytesseract import image_to_data # https://github.com/UB-Mannheim/tesseract/wiki\n",
    "from pytesseract import Output \n",
    "import shutil\n",
    "\n",
    "import sys\n",
    "sys.path.append(str(Path.cwd().parent.parent))\n",
    "from utils import create_fh_logger"
   ]
  },
  {
   "cell_type": "code",
   "execution_count": 2,
   "metadata": {},
   "outputs": [],
   "source": [
    "good_docs =  Path.cwd().parent.parent.parent.parent / 'processing' / 'nro_declassified' / 'good_docs'\n",
    "imgs = good_docs.parent / 'imgs'\n",
    "imgs_dest = imgs.parent / \"imgs_rotated\"\n",
    "imgs_dest.mkdir(exist_ok=True)\n",
    "ocr_dest = imgs.parent / \"ocr_rotated\"\n",
    "ocr_dest.mkdir(exist_ok=True)\n",
    "east_weights = imgs.parent.parent / 'models' / 'frozen_east_text_detection.pb'\n",
    "\n",
    "logs = imgs_dest.parent.parent / 'logs'\n",
    "logs.mkdir(exist_ok=True)\n",
    "\n",
    "logger = create_fh_logger(logs / \"ocr_img_rotated.log\")"
   ]
  },
  {
   "cell_type": "code",
   "execution_count": 3,
   "metadata": {},
   "outputs": [
    {
     "ename": "ImportError",
     "evalue": "cannot import name 'model_urls' from 'torchvision.models.vgg' (c:\\Users\\brasw\\AppData\\Local\\Programs\\Python\\Python39\\lib\\site-packages\\torchvision\\models\\vgg.py)",
     "output_type": "error",
     "traceback": [
      "\u001b[1;31m---------------------------------------------------------------------------\u001b[0m",
      "\u001b[1;31mImportError\u001b[0m                               Traceback (most recent call last)",
      "\u001b[1;32m<ipython-input-3-46b4cbc19d94>\u001b[0m in \u001b[0;36m<module>\u001b[1;34m\u001b[0m\n\u001b[1;32m----> 1\u001b[1;33m \u001b[0mcraft_detector\u001b[0m \u001b[1;33m=\u001b[0m \u001b[0mCraft\u001b[0m\u001b[1;33m(\u001b[0m \u001b[0mcrop_type\u001b[0m\u001b[1;33m=\u001b[0m\u001b[1;34m\"poly\"\u001b[0m \u001b[1;33m,\u001b[0m \u001b[0mcuda\u001b[0m \u001b[1;33m=\u001b[0m \u001b[1;32mTrue\u001b[0m\u001b[1;33m,\u001b[0m \u001b[0mtext_threshold\u001b[0m\u001b[1;33m=\u001b[0m\u001b[1;36m0.8\u001b[0m\u001b[1;33m,\u001b[0m \u001b[0mlink_threshold\u001b[0m\u001b[1;33m=\u001b[0m\u001b[1;36m0.4\u001b[0m\u001b[1;33m,\u001b[0m \u001b[0mlow_text\u001b[0m\u001b[1;33m=\u001b[0m\u001b[1;36m0.25\u001b[0m\u001b[1;33m)\u001b[0m\u001b[1;33m\u001b[0m\u001b[1;33m\u001b[0m\u001b[0m\n\u001b[0m",
      "\u001b[1;32mc:\\Users\\brasw\\AppData\\Local\\Programs\\Python\\Python39\\lib\\site-packages\\craft_text_detector\\__init__.py\u001b[0m in \u001b[0;36m__init__\u001b[1;34m(self, output_dir, rectify, export_extra, text_threshold, link_threshold, low_text, cuda, long_size, refiner, crop_type, weight_path_craft_net, weight_path_refine_net)\u001b[0m\n\u001b[0;32m     76\u001b[0m \u001b[1;33m\u001b[0m\u001b[0m\n\u001b[0;32m     77\u001b[0m         \u001b[1;31m# load craftnet\u001b[0m\u001b[1;33m\u001b[0m\u001b[1;33m\u001b[0m\u001b[1;33m\u001b[0m\u001b[0m\n\u001b[1;32m---> 78\u001b[1;33m         \u001b[0mself\u001b[0m\u001b[1;33m.\u001b[0m\u001b[0mload_craftnet_model\u001b[0m\u001b[1;33m(\u001b[0m\u001b[0mweight_path_craft_net\u001b[0m\u001b[1;33m)\u001b[0m\u001b[1;33m\u001b[0m\u001b[1;33m\u001b[0m\u001b[0m\n\u001b[0m\u001b[0;32m     79\u001b[0m         \u001b[1;31m# load refinernet if required\u001b[0m\u001b[1;33m\u001b[0m\u001b[1;33m\u001b[0m\u001b[1;33m\u001b[0m\u001b[0m\n\u001b[0;32m     80\u001b[0m         \u001b[1;32mif\u001b[0m \u001b[0mrefiner\u001b[0m\u001b[1;33m:\u001b[0m\u001b[1;33m\u001b[0m\u001b[1;33m\u001b[0m\u001b[0m\n",
      "\u001b[1;32mc:\\Users\\brasw\\AppData\\Local\\Programs\\Python\\Python39\\lib\\site-packages\\craft_text_detector\\__init__.py\u001b[0m in \u001b[0;36mload_craftnet_model\u001b[1;34m(self, weight_path)\u001b[0m\n\u001b[0;32m     85\u001b[0m         \u001b[0mLoads\u001b[0m \u001b[0mcraftnet\u001b[0m \u001b[0mmodel\u001b[0m\u001b[1;33m\u001b[0m\u001b[1;33m\u001b[0m\u001b[0m\n\u001b[0;32m     86\u001b[0m         \"\"\"\n\u001b[1;32m---> 87\u001b[1;33m         \u001b[0mself\u001b[0m\u001b[1;33m.\u001b[0m\u001b[0mcraft_net\u001b[0m \u001b[1;33m=\u001b[0m \u001b[0mload_craftnet_model\u001b[0m\u001b[1;33m(\u001b[0m\u001b[0mself\u001b[0m\u001b[1;33m.\u001b[0m\u001b[0mcuda\u001b[0m\u001b[1;33m,\u001b[0m \u001b[0mweight_path\u001b[0m\u001b[1;33m=\u001b[0m\u001b[0mweight_path\u001b[0m\u001b[1;33m)\u001b[0m\u001b[1;33m\u001b[0m\u001b[1;33m\u001b[0m\u001b[0m\n\u001b[0m\u001b[0;32m     88\u001b[0m \u001b[1;33m\u001b[0m\u001b[0m\n\u001b[0;32m     89\u001b[0m     \u001b[1;32mdef\u001b[0m \u001b[0mload_refinenet_model\u001b[0m\u001b[1;33m(\u001b[0m\u001b[0mself\u001b[0m\u001b[1;33m,\u001b[0m \u001b[0mweight_path\u001b[0m\u001b[1;33m:\u001b[0m \u001b[0mOptional\u001b[0m\u001b[1;33m[\u001b[0m\u001b[0mstr\u001b[0m\u001b[1;33m]\u001b[0m \u001b[1;33m=\u001b[0m \u001b[1;32mNone\u001b[0m\u001b[1;33m)\u001b[0m\u001b[1;33m:\u001b[0m\u001b[1;33m\u001b[0m\u001b[1;33m\u001b[0m\u001b[0m\n",
      "\u001b[1;32mc:\\Users\\brasw\\AppData\\Local\\Programs\\Python\\Python39\\lib\\site-packages\\craft_text_detector\\craft_utils.py\u001b[0m in \u001b[0;36mload_craftnet_model\u001b[1;34m(cuda, weight_path)\u001b[0m\n\u001b[0;32m     53\u001b[0m \u001b[1;33m\u001b[0m\u001b[0m\n\u001b[0;32m     54\u001b[0m     \u001b[1;31m# load craft net\u001b[0m\u001b[1;33m\u001b[0m\u001b[1;33m\u001b[0m\u001b[1;33m\u001b[0m\u001b[0m\n\u001b[1;32m---> 55\u001b[1;33m     \u001b[1;32mfrom\u001b[0m \u001b[0mcraft_text_detector\u001b[0m\u001b[1;33m.\u001b[0m\u001b[0mmodels\u001b[0m\u001b[1;33m.\u001b[0m\u001b[0mcraftnet\u001b[0m \u001b[1;32mimport\u001b[0m \u001b[0mCraftNet\u001b[0m\u001b[1;33m\u001b[0m\u001b[1;33m\u001b[0m\u001b[0m\n\u001b[0m\u001b[0;32m     56\u001b[0m \u001b[1;33m\u001b[0m\u001b[0m\n\u001b[0;32m     57\u001b[0m     \u001b[0mcraft_net\u001b[0m \u001b[1;33m=\u001b[0m \u001b[0mCraftNet\u001b[0m\u001b[1;33m(\u001b[0m\u001b[1;33m)\u001b[0m  \u001b[1;31m# initialize\u001b[0m\u001b[1;33m\u001b[0m\u001b[1;33m\u001b[0m\u001b[0m\n",
      "\u001b[1;32mc:\\Users\\brasw\\AppData\\Local\\Programs\\Python\\Python39\\lib\\site-packages\\craft_text_detector\\models\\craftnet.py\u001b[0m in \u001b[0;36m<module>\u001b[1;34m\u001b[0m\n\u001b[0;32m      9\u001b[0m \u001b[1;32mimport\u001b[0m \u001b[0mtorch\u001b[0m\u001b[1;33m.\u001b[0m\u001b[0mnn\u001b[0m\u001b[1;33m.\u001b[0m\u001b[0mfunctional\u001b[0m \u001b[1;32mas\u001b[0m \u001b[0mF\u001b[0m\u001b[1;33m\u001b[0m\u001b[1;33m\u001b[0m\u001b[0m\n\u001b[0;32m     10\u001b[0m \u001b[1;33m\u001b[0m\u001b[0m\n\u001b[1;32m---> 11\u001b[1;33m \u001b[1;32mfrom\u001b[0m \u001b[0mcraft_text_detector\u001b[0m\u001b[1;33m.\u001b[0m\u001b[0mmodels\u001b[0m\u001b[1;33m.\u001b[0m\u001b[0mbasenet\u001b[0m\u001b[1;33m.\u001b[0m\u001b[0mvgg16_bn\u001b[0m \u001b[1;32mimport\u001b[0m \u001b[0mvgg16_bn\u001b[0m\u001b[1;33m,\u001b[0m \u001b[0minit_weights\u001b[0m\u001b[1;33m\u001b[0m\u001b[1;33m\u001b[0m\u001b[0m\n\u001b[0m\u001b[0;32m     12\u001b[0m \u001b[1;33m\u001b[0m\u001b[0m\n\u001b[0;32m     13\u001b[0m \u001b[1;33m\u001b[0m\u001b[0m\n",
      "\u001b[1;32mc:\\Users\\brasw\\AppData\\Local\\Programs\\Python\\Python39\\lib\\site-packages\\craft_text_detector\\models\\basenet\\vgg16_bn.py\u001b[0m in \u001b[0;36m<module>\u001b[1;34m\u001b[0m\n\u001b[0;32m      5\u001b[0m \u001b[1;32mimport\u001b[0m \u001b[0mtorch\u001b[0m\u001b[1;33m.\u001b[0m\u001b[0mnn\u001b[0m\u001b[1;33m.\u001b[0m\u001b[0minit\u001b[0m \u001b[1;32mas\u001b[0m \u001b[0minit\u001b[0m\u001b[1;33m\u001b[0m\u001b[1;33m\u001b[0m\u001b[0m\n\u001b[0;32m      6\u001b[0m \u001b[1;32mfrom\u001b[0m \u001b[0mtorchvision\u001b[0m \u001b[1;32mimport\u001b[0m \u001b[0mmodels\u001b[0m\u001b[1;33m\u001b[0m\u001b[1;33m\u001b[0m\u001b[0m\n\u001b[1;32m----> 7\u001b[1;33m \u001b[1;32mfrom\u001b[0m \u001b[0mtorchvision\u001b[0m\u001b[1;33m.\u001b[0m\u001b[0mmodels\u001b[0m\u001b[1;33m.\u001b[0m\u001b[0mvgg\u001b[0m \u001b[1;32mimport\u001b[0m \u001b[0mmodel_urls\u001b[0m\u001b[1;33m\u001b[0m\u001b[1;33m\u001b[0m\u001b[0m\n\u001b[0m\u001b[0;32m      8\u001b[0m \u001b[1;33m\u001b[0m\u001b[0m\n\u001b[0;32m      9\u001b[0m \u001b[1;33m\u001b[0m\u001b[0m\n",
      "\u001b[1;31mImportError\u001b[0m: cannot import name 'model_urls' from 'torchvision.models.vgg' (c:\\Users\\brasw\\AppData\\Local\\Programs\\Python\\Python39\\lib\\site-packages\\torchvision\\models\\vgg.py)"
     ]
    }
   ],
   "source": [
    "craft_detector = Craft( crop_type=\"poly\" , cuda = True, text_threshold=0.8, link_threshold=0.4, low_text=0.25)"
   ]
  },
  {
   "cell_type": "code",
   "execution_count": 4,
   "metadata": {},
   "outputs": [],
   "source": [
    "import torchvision #Below monkey patches torchvision to use the model URLs found in: https://github.com/clovaai/CRAFT-pytorch/issues/191\n",
    "torchvision.models.vgg.model_urls = {\n",
    "    'vgg11': 'https://download.pytorch.org/models/vgg11-bbd30ac9.pth', \n",
    "    'vgg13': 'https://download.pytorch.org/models/vgg13-c768596a.pth', \n",
    "    'vgg16': 'https://download.pytorch.org/models/vgg16-397923af.pth', \n",
    "    'vgg19': 'https://download.pytorch.org/models/vgg19-dcbb9e9d.pth', \n",
    "    'vgg11_bn': 'https://download.pytorch.org/models/vgg11_bn-6002323d.pth', \n",
    "    'vgg13_bn': 'https://download.pytorch.org/models/vgg13_bn-abd245e5.pth', \n",
    "    'vgg16_bn': 'https://download.pytorch.org/models/vgg16_bn-6c64b313.pth', \n",
    "    'vgg19_bn': 'https://download.pytorch.org/models/vgg19_bn-c79401a0.pth'\n",
    "    }"
   ]
  },
  {
   "cell_type": "code",
   "execution_count": 5,
   "metadata": {},
   "outputs": [
    {
     "name": "stderr",
     "output_type": "stream",
     "text": [
      "c:\\Users\\brasw\\AppData\\Local\\Programs\\Python\\Python39\\lib\\site-packages\\torchvision\\models\\_utils.py:208: UserWarning: The parameter 'pretrained' is deprecated since 0.13 and may be removed in the future, please use 'weights' instead.\n",
      "  warnings.warn(\n",
      "c:\\Users\\brasw\\AppData\\Local\\Programs\\Python\\Python39\\lib\\site-packages\\torchvision\\models\\_utils.py:223: UserWarning: Arguments other than a weight enum or `None` for 'weights' are deprecated since 0.13 and may be removed in the future. The current behavior is equivalent to passing `weights=None`.\n",
      "  warnings.warn(msg)\n"
     ]
    },
    {
     "name": "stdout",
     "output_type": "stream",
     "text": [
      "Craft text detector weight will be downloaded to C:\\Users\\brasw\\.craft_text_detector\\weights\\craft_mlt_25k.pth\n"
     ]
    },
    {
     "ename": "FileURLRetrievalError",
     "evalue": "Failed to retrieve file url:\n\n\tToo many users have viewed or downloaded this file recently. Please\n\ttry accessing the file again later. If the file you are trying to\n\taccess is particularly large or is shared with many people, it may\n\ttake up to 24 hours to be able to view or download the file. If you\n\tstill can't access a file after 24 hours, contact your domain\n\tadministrator.\n\nYou may still be able to access the file from the browser:\n\n\thttps://drive.google.com/uc?id=1bupFXqT-VU6Jjeul13XP7yx2Sg5IHr4J\n\nbut Gdown can't. Please check connections and permissions.",
     "output_type": "error",
     "traceback": [
      "\u001b[1;31m---------------------------------------------------------------------------\u001b[0m",
      "\u001b[1;31mFileURLRetrievalError\u001b[0m                     Traceback (most recent call last)",
      "\u001b[1;32mc:\\Users\\brasw\\AppData\\Local\\Programs\\Python\\Python39\\lib\\site-packages\\gdown\\download.py\u001b[0m in \u001b[0;36mdownload\u001b[1;34m(url, output, quiet, proxy, speed, use_cookies, verify, id, fuzzy, resume, format, user_agent, log_messages)\u001b[0m\n\u001b[0;32m    252\u001b[0m         \u001b[1;32mtry\u001b[0m\u001b[1;33m:\u001b[0m\u001b[1;33m\u001b[0m\u001b[1;33m\u001b[0m\u001b[0m\n\u001b[1;32m--> 253\u001b[1;33m             \u001b[0murl\u001b[0m \u001b[1;33m=\u001b[0m \u001b[0mget_url_from_gdrive_confirmation\u001b[0m\u001b[1;33m(\u001b[0m\u001b[0mres\u001b[0m\u001b[1;33m.\u001b[0m\u001b[0mtext\u001b[0m\u001b[1;33m)\u001b[0m\u001b[1;33m\u001b[0m\u001b[1;33m\u001b[0m\u001b[0m\n\u001b[0m\u001b[0;32m    254\u001b[0m         \u001b[1;32mexcept\u001b[0m \u001b[0mFileURLRetrievalError\u001b[0m \u001b[1;32mas\u001b[0m \u001b[0me\u001b[0m\u001b[1;33m:\u001b[0m\u001b[1;33m\u001b[0m\u001b[1;33m\u001b[0m\u001b[0m\n",
      "\u001b[1;32mc:\\Users\\brasw\\AppData\\Local\\Programs\\Python\\Python39\\lib\\site-packages\\gdown\\download.py\u001b[0m in \u001b[0;36mget_url_from_gdrive_confirmation\u001b[1;34m(contents)\u001b[0m\n\u001b[0;32m     51\u001b[0m             \u001b[0merror\u001b[0m \u001b[1;33m=\u001b[0m \u001b[0mm\u001b[0m\u001b[1;33m.\u001b[0m\u001b[0mgroups\u001b[0m\u001b[1;33m(\u001b[0m\u001b[1;33m)\u001b[0m\u001b[1;33m[\u001b[0m\u001b[1;36m0\u001b[0m\u001b[1;33m]\u001b[0m\u001b[1;33m\u001b[0m\u001b[1;33m\u001b[0m\u001b[0m\n\u001b[1;32m---> 52\u001b[1;33m             \u001b[1;32mraise\u001b[0m \u001b[0mFileURLRetrievalError\u001b[0m\u001b[1;33m(\u001b[0m\u001b[0merror\u001b[0m\u001b[1;33m)\u001b[0m\u001b[1;33m\u001b[0m\u001b[1;33m\u001b[0m\u001b[0m\n\u001b[0m\u001b[0;32m     53\u001b[0m     \u001b[1;32mif\u001b[0m \u001b[1;32mnot\u001b[0m \u001b[0murl\u001b[0m\u001b[1;33m:\u001b[0m\u001b[1;33m\u001b[0m\u001b[1;33m\u001b[0m\u001b[0m\n",
      "\u001b[1;31mFileURLRetrievalError\u001b[0m: Too many users have viewed or downloaded this file recently. Please try accessing the file again later. If the file you are trying to access is particularly large or is shared with many people, it may take up to 24 hours to be able to view or download the file. If you still can't access a file after 24 hours, contact your domain administrator.",
      "\nDuring handling of the above exception, another exception occurred:\n",
      "\u001b[1;31mFileURLRetrievalError\u001b[0m                     Traceback (most recent call last)",
      "\u001b[1;32m<ipython-input-5-63594239aef1>\u001b[0m in \u001b[0;36m<module>\u001b[1;34m\u001b[0m\n\u001b[1;32m----> 1\u001b[1;33m \u001b[0mcraft_detector\u001b[0m \u001b[1;33m=\u001b[0m \u001b[0mCraft\u001b[0m\u001b[1;33m(\u001b[0m\u001b[0mcrop_type\u001b[0m\u001b[1;33m=\u001b[0m\u001b[1;34m\"poly\"\u001b[0m \u001b[1;33m,\u001b[0m \u001b[0mcuda\u001b[0m \u001b[1;33m=\u001b[0m \u001b[1;32mTrue\u001b[0m\u001b[1;33m,\u001b[0m \u001b[0mtext_threshold\u001b[0m\u001b[1;33m=\u001b[0m\u001b[1;36m0.8\u001b[0m\u001b[1;33m,\u001b[0m \u001b[0mlink_threshold\u001b[0m\u001b[1;33m=\u001b[0m\u001b[1;36m0.4\u001b[0m\u001b[1;33m,\u001b[0m \u001b[0mlow_text\u001b[0m\u001b[1;33m=\u001b[0m\u001b[1;36m0.25\u001b[0m\u001b[1;33m)\u001b[0m\u001b[1;33m\u001b[0m\u001b[1;33m\u001b[0m\u001b[0m\n\u001b[0m",
      "\u001b[1;32mc:\\Users\\brasw\\AppData\\Local\\Programs\\Python\\Python39\\lib\\site-packages\\craft_text_detector\\__init__.py\u001b[0m in \u001b[0;36m__init__\u001b[1;34m(self, output_dir, rectify, export_extra, text_threshold, link_threshold, low_text, cuda, long_size, refiner, crop_type, weight_path_craft_net, weight_path_refine_net)\u001b[0m\n\u001b[0;32m     76\u001b[0m \u001b[1;33m\u001b[0m\u001b[0m\n\u001b[0;32m     77\u001b[0m         \u001b[1;31m# load craftnet\u001b[0m\u001b[1;33m\u001b[0m\u001b[1;33m\u001b[0m\u001b[1;33m\u001b[0m\u001b[0m\n\u001b[1;32m---> 78\u001b[1;33m         \u001b[0mself\u001b[0m\u001b[1;33m.\u001b[0m\u001b[0mload_craftnet_model\u001b[0m\u001b[1;33m(\u001b[0m\u001b[0mweight_path_craft_net\u001b[0m\u001b[1;33m)\u001b[0m\u001b[1;33m\u001b[0m\u001b[1;33m\u001b[0m\u001b[0m\n\u001b[0m\u001b[0;32m     79\u001b[0m         \u001b[1;31m# load refinernet if required\u001b[0m\u001b[1;33m\u001b[0m\u001b[1;33m\u001b[0m\u001b[1;33m\u001b[0m\u001b[0m\n\u001b[0;32m     80\u001b[0m         \u001b[1;32mif\u001b[0m \u001b[0mrefiner\u001b[0m\u001b[1;33m:\u001b[0m\u001b[1;33m\u001b[0m\u001b[1;33m\u001b[0m\u001b[0m\n",
      "\u001b[1;32mc:\\Users\\brasw\\AppData\\Local\\Programs\\Python\\Python39\\lib\\site-packages\\craft_text_detector\\__init__.py\u001b[0m in \u001b[0;36mload_craftnet_model\u001b[1;34m(self, weight_path)\u001b[0m\n\u001b[0;32m     85\u001b[0m         \u001b[0mLoads\u001b[0m \u001b[0mcraftnet\u001b[0m \u001b[0mmodel\u001b[0m\u001b[1;33m\u001b[0m\u001b[1;33m\u001b[0m\u001b[0m\n\u001b[0;32m     86\u001b[0m         \"\"\"\n\u001b[1;32m---> 87\u001b[1;33m         \u001b[0mself\u001b[0m\u001b[1;33m.\u001b[0m\u001b[0mcraft_net\u001b[0m \u001b[1;33m=\u001b[0m \u001b[0mload_craftnet_model\u001b[0m\u001b[1;33m(\u001b[0m\u001b[0mself\u001b[0m\u001b[1;33m.\u001b[0m\u001b[0mcuda\u001b[0m\u001b[1;33m,\u001b[0m \u001b[0mweight_path\u001b[0m\u001b[1;33m=\u001b[0m\u001b[0mweight_path\u001b[0m\u001b[1;33m)\u001b[0m\u001b[1;33m\u001b[0m\u001b[1;33m\u001b[0m\u001b[0m\n\u001b[0m\u001b[0;32m     88\u001b[0m \u001b[1;33m\u001b[0m\u001b[0m\n\u001b[0;32m     89\u001b[0m     \u001b[1;32mdef\u001b[0m \u001b[0mload_refinenet_model\u001b[0m\u001b[1;33m(\u001b[0m\u001b[0mself\u001b[0m\u001b[1;33m,\u001b[0m \u001b[0mweight_path\u001b[0m\u001b[1;33m:\u001b[0m \u001b[0mOptional\u001b[0m\u001b[1;33m[\u001b[0m\u001b[0mstr\u001b[0m\u001b[1;33m]\u001b[0m \u001b[1;33m=\u001b[0m \u001b[1;32mNone\u001b[0m\u001b[1;33m)\u001b[0m\u001b[1;33m:\u001b[0m\u001b[1;33m\u001b[0m\u001b[1;33m\u001b[0m\u001b[0m\n",
      "\u001b[1;32mc:\\Users\\brasw\\AppData\\Local\\Programs\\Python\\Python39\\lib\\site-packages\\craft_text_detector\\craft_utils.py\u001b[0m in \u001b[0;36mload_craftnet_model\u001b[1;34m(cuda, weight_path)\u001b[0m\n\u001b[0;32m     62\u001b[0m         \u001b[0mprint\u001b[0m\u001b[1;33m(\u001b[0m\u001b[1;34m\"Craft text detector weight will be downloaded to {}\"\u001b[0m\u001b[1;33m.\u001b[0m\u001b[0mformat\u001b[0m\u001b[1;33m(\u001b[0m\u001b[0mweight_path\u001b[0m\u001b[1;33m)\u001b[0m\u001b[1;33m)\u001b[0m\u001b[1;33m\u001b[0m\u001b[1;33m\u001b[0m\u001b[0m\n\u001b[0;32m     63\u001b[0m \u001b[1;33m\u001b[0m\u001b[0m\n\u001b[1;32m---> 64\u001b[1;33m         \u001b[0mfile_utils\u001b[0m\u001b[1;33m.\u001b[0m\u001b[0mdownload\u001b[0m\u001b[1;33m(\u001b[0m\u001b[0murl\u001b[0m\u001b[1;33m=\u001b[0m\u001b[0murl\u001b[0m\u001b[1;33m,\u001b[0m \u001b[0msave_path\u001b[0m\u001b[1;33m=\u001b[0m\u001b[0mweight_path\u001b[0m\u001b[1;33m)\u001b[0m\u001b[1;33m\u001b[0m\u001b[1;33m\u001b[0m\u001b[0m\n\u001b[0m\u001b[0;32m     65\u001b[0m \u001b[1;33m\u001b[0m\u001b[0m\n\u001b[0;32m     66\u001b[0m     \u001b[1;31m# arange device\u001b[0m\u001b[1;33m\u001b[0m\u001b[1;33m\u001b[0m\u001b[1;33m\u001b[0m\u001b[0m\n",
      "\u001b[1;32mc:\\Users\\brasw\\AppData\\Local\\Programs\\Python\\Python39\\lib\\site-packages\\craft_text_detector\\file_utils.py\u001b[0m in \u001b[0;36mdownload\u001b[1;34m(url, save_path)\u001b[0m\n\u001b[0;32m     20\u001b[0m     \u001b[0mcreate_dir\u001b[0m\u001b[1;33m(\u001b[0m\u001b[0mos\u001b[0m\u001b[1;33m.\u001b[0m\u001b[0mpath\u001b[0m\u001b[1;33m.\u001b[0m\u001b[0mdirname\u001b[0m\u001b[1;33m(\u001b[0m\u001b[0msave_path\u001b[0m\u001b[1;33m)\u001b[0m\u001b[1;33m)\u001b[0m\u001b[1;33m\u001b[0m\u001b[1;33m\u001b[0m\u001b[0m\n\u001b[0;32m     21\u001b[0m     \u001b[1;31m# download file\u001b[0m\u001b[1;33m\u001b[0m\u001b[1;33m\u001b[0m\u001b[1;33m\u001b[0m\u001b[0m\n\u001b[1;32m---> 22\u001b[1;33m     \u001b[0mgdown\u001b[0m\u001b[1;33m.\u001b[0m\u001b[0mdownload\u001b[0m\u001b[1;33m(\u001b[0m\u001b[0murl\u001b[0m\u001b[1;33m,\u001b[0m \u001b[0msave_path\u001b[0m\u001b[1;33m,\u001b[0m \u001b[0mquiet\u001b[0m\u001b[1;33m=\u001b[0m\u001b[1;32mFalse\u001b[0m\u001b[1;33m)\u001b[0m\u001b[1;33m\u001b[0m\u001b[1;33m\u001b[0m\u001b[0m\n\u001b[0m\u001b[0;32m     23\u001b[0m \u001b[1;33m\u001b[0m\u001b[0m\n\u001b[0;32m     24\u001b[0m \u001b[1;33m\u001b[0m\u001b[0m\n",
      "\u001b[1;32mc:\\Users\\brasw\\AppData\\Local\\Programs\\Python\\Python39\\lib\\site-packages\\gdown\\download.py\u001b[0m in \u001b[0;36mdownload\u001b[1;34m(url, output, quiet, proxy, speed, use_cookies, verify, id, fuzzy, resume, format, user_agent, log_messages)\u001b[0m\n\u001b[0;32m    262\u001b[0m                 \u001b[0murl_origin\u001b[0m\u001b[1;33m,\u001b[0m\u001b[1;33m\u001b[0m\u001b[1;33m\u001b[0m\u001b[0m\n\u001b[0;32m    263\u001b[0m             )\n\u001b[1;32m--> 264\u001b[1;33m             \u001b[1;32mraise\u001b[0m \u001b[0mFileURLRetrievalError\u001b[0m\u001b[1;33m(\u001b[0m\u001b[0mmessage\u001b[0m\u001b[1;33m)\u001b[0m\u001b[1;33m\u001b[0m\u001b[1;33m\u001b[0m\u001b[0m\n\u001b[0m\u001b[0;32m    265\u001b[0m \u001b[1;33m\u001b[0m\u001b[0m\n\u001b[0;32m    266\u001b[0m     \u001b[0mfilename_from_url\u001b[0m \u001b[1;33m=\u001b[0m \u001b[1;32mNone\u001b[0m\u001b[1;33m\u001b[0m\u001b[1;33m\u001b[0m\u001b[0m\n",
      "\u001b[1;31mFileURLRetrievalError\u001b[0m: Failed to retrieve file url:\n\n\tToo many users have viewed or downloaded this file recently. Please\n\ttry accessing the file again later. If the file you are trying to\n\taccess is particularly large or is shared with many people, it may\n\ttake up to 24 hours to be able to view or download the file. If you\n\tstill can't access a file after 24 hours, contact your domain\n\tadministrator.\n\nYou may still be able to access the file from the browser:\n\n\thttps://drive.google.com/uc?id=1bupFXqT-VU6Jjeul13XP7yx2Sg5IHr4J\n\nbut Gdown can't. Please check connections and permissions."
     ]
    }
   ],
   "source": [
    "craft_detector = Craft(crop_type=\"poly\" , cuda = True, text_threshold=0.8, link_threshold=0.4, low_text=0.25)"
   ]
  },
  {
   "cell_type": "markdown",
   "metadata": {},
   "source": [
    "It can't be accessed in the browser either. The model weights are stored on Google Drive & they have exceeded their usage the past 24 hours... repeatedly."
   ]
  },
  {
   "cell_type": "code",
   "execution_count": 3,
   "metadata": {},
   "outputs": [],
   "source": [
    "# lets read in the files we will continue to work on\n",
    "with open( good_docs / 'analyze.json','r') as f:\n",
    "    docs = json.loads(f.read())['documents']"
   ]
  },
  {
   "cell_type": "code",
   "execution_count": 9,
   "metadata": {},
   "outputs": [],
   "source": [
    "# https://github.com/opencv/opencv/blob/7fb70e170154d064ef12d8fec61c0ae70812ce3d/samples/dnn/text_detection.py\n",
    "def decode(scores, geometry, scoreThresh):\n",
    "    detections = []\n",
    "    confidences = []\n",
    "    height = scores.shape[2]\n",
    "    width = scores.shape[3]\n",
    "    for y in range(0, height):\n",
    "        scoresData = scores[0][0][y]\n",
    "        x0_data = geometry[0][0][y]\n",
    "        x1_data = geometry[0][1][y]\n",
    "        x2_data = geometry[0][2][y]\n",
    "        x3_data = geometry[0][3][y]\n",
    "        anglesData = geometry[0][4][y]\n",
    "        for x in range(0, width):\n",
    "            score = scoresData[x]\n",
    "            if(score < scoreThresh):\n",
    "                continue\n",
    "            offsetX = x * 4.0\n",
    "            offsetY = y * 4.0\n",
    "            angle = anglesData[x]\n",
    "            cosA = math.cos(angle)\n",
    "            sinA = math.sin(angle)\n",
    "            h = x0_data[x] + x2_data[x]\n",
    "            w = x1_data[x] + x3_data[x]\n",
    "            offset = ([offsetX + cosA * x1_data[x] + sinA * x2_data[x], offsetY - sinA * x1_data[x] + cosA * x2_data[x]])\n",
    "            p1 = (-sinA * h + offset[0], -cosA * h + offset[1])\n",
    "            p3 = (-cosA * w + offset[0],  sinA * w + offset[1])\n",
    "            center = (0.5*(p1[0]+p3[0]), 0.5*(p1[1]+p3[1]))\n",
    "            detections.append((center, (w,h), -1*angle * 180.0 / math.pi))\n",
    "            confidences.append(float(score))\n",
    "    return [detections, confidences]\n",
    "import os \n",
    "def east_detect(img_folder):\n",
    "    resize_hw = 640\n",
    "    conf_threshold = .2\n",
    "    nms_threshold=.2\n",
    "    available_rotations = [cv2.ROTATE_180, cv2.ROTATE_90_CLOCKWISE, cv2.ROTATE_90_COUNTERCLOCKWISE, -1]\n",
    "    rotations = {key: 0 for key in available_rotations} # lets use this as an accumulator to count the amount of text matches per rotation to be used as our final determinator for how to rotate the image\n",
    "    net = cv2.dnn.readNetFromTensorflow(str(east_weights))\n",
    "    net.setPreferableBackend(cv2.dnn.DNN_BACKEND_CUDA)\n",
    "    net.setPreferableTarget(cv2.dnn.DNN_TARGET_CUDA)\n",
    "    outNames = [\"feature_fusion/Conv_7/Sigmoid\", \"feature_fusion/concat_3\"]\n",
    "    for image_file in list(Path(img_folder).glob('*png')):\n",
    "        name = image_file.name\n",
    "        image = cv2.imread(str(image_file))\n",
    "        if image is not None:\n",
    "            for rotation in available_rotations:\n",
    "                frame = image.copy()\n",
    "                frame = cv2.rotate(frame, rotation) if rotation >=0 else frame\n",
    "                height_ = frame.shape[0]\n",
    "                width_ = frame.shape[1]\n",
    "                rW = width_ / float(resize_hw)\n",
    "                rH = height_ / float(resize_hw)\n",
    "                blob = cv2.dnn.blobFromImage(frame, 1.0, (resize_hw, resize_hw), (123.68, 116.78, 103.94), True, False)\n",
    "                net.setInput(blob)\n",
    "                outs = net.forward(outNames)\n",
    "\n",
    "                # Get scores and geometry\n",
    "                scores = outs[0]\n",
    "                geometry = outs[1]\n",
    "                [boxes, confidences] = decode(scores, geometry, conf_threshold)\n",
    "                indices = cv2.dnn.NMSBoxesRotated(boxes, confidences, conf_threshold, nms_threshold)\n",
    "                rotations[rotation] += len(indices)\n",
    "        else:\n",
    "            rotations[-1] = 50# just make it not do anything\n",
    "    return rotations \n",
    "\n",
    "def ocr(imgs_dest, ocr_dest):\n",
    "    logger.info('Entering ocr loop.')\n",
    "    for item in imgs_dest.iterdir(): # could be a file ig if something went wrong\n",
    "        translation = {}\n",
    "        try: # there are some unallowed characters and conditions in here that haven't all been identified\n",
    "            if item.is_dir: # what we're after \n",
    "                pdf_name = ocr_dest.stem\n",
    "                file_name = ocr_dest / f'{pdf_name}.json'\n",
    "                pgs = list(item.glob('*png'))\n",
    "                logger.info(f\"Starting Translation on {pdf_name.encode('utf-8')} with {len(pgs)} pages.\")\n",
    "                pg_translations = {}\n",
    "                for pg in pgs:\n",
    "                    pg_num = pg.stem\n",
    "                    pg = Image.open(pg)\n",
    "                    parsed = image_to_data(pg, output_type = Output.DICT)\n",
    "                    pg_translations[pg_num] = parsed\n",
    "                translation[pdf_name] = pg_translations\n",
    "                logger.info(f\"Saving Translation for {pdf_name.encode('utf-8')} as a JSON.\")\n",
    "                with open (file_name, 'w') as f:\n",
    "                    json.dump(translation, f)\n",
    "        except Exception as e:\n",
    "            logger.info(e)  \n",
    "    logger.info('Exiting ocr loop')\n",
    "\n",
    "def process_img(file: Path):\n",
    "    img_folder = imgs / file\n",
    "    rotations = east_detect(img_folder) # this is a dict in the form: rotate 180, rotate 90 clockwise, rotate 90 counterclockwise, leave the same [-1]\n",
    "    rotation = max(rotations, key=rotations.get) \n",
    "    save_loc = imgs_dest / file.name\n",
    "    save_loc.mkdir(exist_ok=True, parents=True)\n",
    "    if rotation != -1 and rotation != 1: # lets not allow 180s\n",
    "        # make the directory\n",
    "        logger.info(f\"Rotating {str(img_folder).encode('utf-8')}\")\n",
    "        for image_file in list(Path(img_folder).glob('*png')):\n",
    "            frame = cv2.imread(str(image_file))\n",
    "            frame = cv2.rotate(frame, rotation)\n",
    "            # lets save this \n",
    "            s = str(save_loc / f'{image_file.name}{image_file.suffix}')\n",
    "            cv2.imwrite(s, frame)\n",
    "    else:\n",
    "        # we just need to save off the img folder\n",
    "        saved = shutil.copytree(str(img_folder), str(save_loc), dirs_exist_ok=True)\n",
    "        logger.info(f'Saved entire tree: {saved}, {str(save_loc)}')\n",
    "    #ocr(imgs_dest, ocr_dest)"
   ]
  },
  {
   "cell_type": "code",
   "execution_count": null,
   "metadata": {},
   "outputs": [],
   "source": [
    "img_dests = []\n",
    "for doc in docs:\n",
    "    doc = doc[:10] + \"_\" + doc[10:]\n",
    "    # lets double check the name is a match:\n",
    "    # some naming inconsistencies with the json ocr versus img (namely the _)\n",
    "    for img_folder in imgs.iterdir():\n",
    "        if doc[:25] == img_folder.name[:25]:\n",
    "            # lets keep this \n",
    "            doc = doc \n",
    "            break \n",
    "    pdf_img = imgs / doc \n",
    "    img_dests.append(pdf_img)\n",
    "    process_img(pdf_img)"
   ]
  }
 ],
 "metadata": {
  "kernelspec": {
   "display_name": "Python 3",
   "language": "python",
   "name": "python3"
  },
  "language_info": {
   "codemirror_mode": {
    "name": "ipython",
    "version": 3
   },
   "file_extension": ".py",
   "mimetype": "text/x-python",
   "name": "python",
   "nbconvert_exporter": "python",
   "pygments_lexer": "ipython3",
   "version": "3.9.4"
  }
 },
 "nbformat": 4,
 "nbformat_minor": 2
}
